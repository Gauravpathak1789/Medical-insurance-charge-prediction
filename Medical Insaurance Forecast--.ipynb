{
 "cells": [
  {
   "cell_type": "code",
   "execution_count": 1,
   "id": "1809c943",
   "metadata": {},
   "outputs": [],
   "source": [
    "#importing librarires\n",
    "import pandas as pd\n",
    "import numpy as np\n",
    "import matplotlib.pyplot as plt\n",
    "import seaborn as sns\n",
    "import warnings\n",
    "warnings.filterwarnings(\"ignore\")\n",
    "%matplotlib inline\n"
   ]
  },
  {
   "cell_type": "code",
   "execution_count": 145,
   "id": "5e6b9b6f",
   "metadata": {},
   "outputs": [],
   "source": [
    "#importing  scikitlearn libraries for prediction and preprocssing purpose-\n",
    "from sklearn.compose import ColumnTransformer\n",
    "from sklearn.model_selection import train_test_split\n",
    "from sklearn.preprocessing import StandardScaler,OneHotEncoder,OrdinalEncoder,PolynomialFeatures\n",
    "from sklearn.pipeline import Pipeline,make_pipeline\n",
    "from sklearn.linear_model import LinearRegression,SGDRegressor\n",
    "from sklearn.linear_model import LinearRegression,Ridge,Lasso,ElasticNet\n",
    "from sklearn.metrics import r2_score,mean_absolute_error,mean_squared_error"
   ]
  },
  {
   "cell_type": "code",
   "execution_count": 14,
   "id": "2544c71d",
   "metadata": {},
   "outputs": [],
   "source": [
    "df=pd.read_csv(\"C:\\\\Users\\\\Gaurav Pathak\\\\OneDrive\\\\Desktop\\\\Python dataset\\\\insurance.csv\")"
   ]
  },
  {
   "cell_type": "code",
   "execution_count": 15,
   "id": "59d45f4e",
   "metadata": {},
   "outputs": [
    {
     "data": {
      "text/html": [
       "<div>\n",
       "<style scoped>\n",
       "    .dataframe tbody tr th:only-of-type {\n",
       "        vertical-align: middle;\n",
       "    }\n",
       "\n",
       "    .dataframe tbody tr th {\n",
       "        vertical-align: top;\n",
       "    }\n",
       "\n",
       "    .dataframe thead th {\n",
       "        text-align: right;\n",
       "    }\n",
       "</style>\n",
       "<table border=\"1\" class=\"dataframe\">\n",
       "  <thead>\n",
       "    <tr style=\"text-align: right;\">\n",
       "      <th></th>\n",
       "      <th>age</th>\n",
       "      <th>sex</th>\n",
       "      <th>bmi</th>\n",
       "      <th>children</th>\n",
       "      <th>smoker</th>\n",
       "      <th>region</th>\n",
       "      <th>charges</th>\n",
       "    </tr>\n",
       "  </thead>\n",
       "  <tbody>\n",
       "    <tr>\n",
       "      <th>0</th>\n",
       "      <td>19</td>\n",
       "      <td>female</td>\n",
       "      <td>27.900</td>\n",
       "      <td>0</td>\n",
       "      <td>yes</td>\n",
       "      <td>southwest</td>\n",
       "      <td>16884.92400</td>\n",
       "    </tr>\n",
       "    <tr>\n",
       "      <th>1</th>\n",
       "      <td>18</td>\n",
       "      <td>male</td>\n",
       "      <td>33.770</td>\n",
       "      <td>1</td>\n",
       "      <td>no</td>\n",
       "      <td>southeast</td>\n",
       "      <td>1725.55230</td>\n",
       "    </tr>\n",
       "    <tr>\n",
       "      <th>2</th>\n",
       "      <td>28</td>\n",
       "      <td>male</td>\n",
       "      <td>33.000</td>\n",
       "      <td>3</td>\n",
       "      <td>no</td>\n",
       "      <td>southeast</td>\n",
       "      <td>4449.46200</td>\n",
       "    </tr>\n",
       "    <tr>\n",
       "      <th>3</th>\n",
       "      <td>33</td>\n",
       "      <td>male</td>\n",
       "      <td>22.705</td>\n",
       "      <td>0</td>\n",
       "      <td>no</td>\n",
       "      <td>northwest</td>\n",
       "      <td>21984.47061</td>\n",
       "    </tr>\n",
       "    <tr>\n",
       "      <th>4</th>\n",
       "      <td>32</td>\n",
       "      <td>male</td>\n",
       "      <td>28.880</td>\n",
       "      <td>0</td>\n",
       "      <td>no</td>\n",
       "      <td>northwest</td>\n",
       "      <td>3866.85520</td>\n",
       "    </tr>\n",
       "  </tbody>\n",
       "</table>\n",
       "</div>"
      ],
      "text/plain": [
       "   age     sex     bmi  children smoker     region      charges\n",
       "0   19  female  27.900         0    yes  southwest  16884.92400\n",
       "1   18    male  33.770         1     no  southeast   1725.55230\n",
       "2   28    male  33.000         3     no  southeast   4449.46200\n",
       "3   33    male  22.705         0     no  northwest  21984.47061\n",
       "4   32    male  28.880         0     no  northwest   3866.85520"
      ]
     },
     "execution_count": 15,
     "metadata": {},
     "output_type": "execute_result"
    }
   ],
   "source": [
    "df.head()"
   ]
  },
  {
   "cell_type": "code",
   "execution_count": 16,
   "id": "a4a69352",
   "metadata": {},
   "outputs": [],
   "source": [
    "df[\"charges\"]=np.round(df[\"charges\"],2)\n"
   ]
  },
  {
   "cell_type": "code",
   "execution_count": 17,
   "id": "a0c79bfc",
   "metadata": {},
   "outputs": [],
   "source": [
    "df['bmi']=np.round(df[\"bmi\"],2)"
   ]
  },
  {
   "cell_type": "code",
   "execution_count": 18,
   "id": "022adf38",
   "metadata": {},
   "outputs": [
    {
     "data": {
      "text/html": [
       "<div>\n",
       "<style scoped>\n",
       "    .dataframe tbody tr th:only-of-type {\n",
       "        vertical-align: middle;\n",
       "    }\n",
       "\n",
       "    .dataframe tbody tr th {\n",
       "        vertical-align: top;\n",
       "    }\n",
       "\n",
       "    .dataframe thead th {\n",
       "        text-align: right;\n",
       "    }\n",
       "</style>\n",
       "<table border=\"1\" class=\"dataframe\">\n",
       "  <thead>\n",
       "    <tr style=\"text-align: right;\">\n",
       "      <th></th>\n",
       "      <th>age</th>\n",
       "      <th>sex</th>\n",
       "      <th>bmi</th>\n",
       "      <th>children</th>\n",
       "      <th>smoker</th>\n",
       "      <th>region</th>\n",
       "      <th>charges</th>\n",
       "    </tr>\n",
       "  </thead>\n",
       "  <tbody>\n",
       "    <tr>\n",
       "      <th>0</th>\n",
       "      <td>19</td>\n",
       "      <td>female</td>\n",
       "      <td>27.90</td>\n",
       "      <td>0</td>\n",
       "      <td>yes</td>\n",
       "      <td>southwest</td>\n",
       "      <td>16884.92</td>\n",
       "    </tr>\n",
       "    <tr>\n",
       "      <th>1</th>\n",
       "      <td>18</td>\n",
       "      <td>male</td>\n",
       "      <td>33.77</td>\n",
       "      <td>1</td>\n",
       "      <td>no</td>\n",
       "      <td>southeast</td>\n",
       "      <td>1725.55</td>\n",
       "    </tr>\n",
       "    <tr>\n",
       "      <th>2</th>\n",
       "      <td>28</td>\n",
       "      <td>male</td>\n",
       "      <td>33.00</td>\n",
       "      <td>3</td>\n",
       "      <td>no</td>\n",
       "      <td>southeast</td>\n",
       "      <td>4449.46</td>\n",
       "    </tr>\n",
       "    <tr>\n",
       "      <th>3</th>\n",
       "      <td>33</td>\n",
       "      <td>male</td>\n",
       "      <td>22.70</td>\n",
       "      <td>0</td>\n",
       "      <td>no</td>\n",
       "      <td>northwest</td>\n",
       "      <td>21984.47</td>\n",
       "    </tr>\n",
       "    <tr>\n",
       "      <th>4</th>\n",
       "      <td>32</td>\n",
       "      <td>male</td>\n",
       "      <td>28.88</td>\n",
       "      <td>0</td>\n",
       "      <td>no</td>\n",
       "      <td>northwest</td>\n",
       "      <td>3866.86</td>\n",
       "    </tr>\n",
       "  </tbody>\n",
       "</table>\n",
       "</div>"
      ],
      "text/plain": [
       "   age     sex    bmi  children smoker     region   charges\n",
       "0   19  female  27.90         0    yes  southwest  16884.92\n",
       "1   18    male  33.77         1     no  southeast   1725.55\n",
       "2   28    male  33.00         3     no  southeast   4449.46\n",
       "3   33    male  22.70         0     no  northwest  21984.47\n",
       "4   32    male  28.88         0     no  northwest   3866.86"
      ]
     },
     "execution_count": 18,
     "metadata": {},
     "output_type": "execute_result"
    }
   ],
   "source": [
    "df.head()"
   ]
  },
  {
   "cell_type": "code",
   "execution_count": 20,
   "id": "afc63f69",
   "metadata": {},
   "outputs": [
    {
     "name": "stdout",
     "output_type": "stream",
     "text": [
      "<class 'pandas.core.frame.DataFrame'>\n",
      "RangeIndex: 1338 entries, 0 to 1337\n",
      "Data columns (total 7 columns):\n",
      " #   Column    Non-Null Count  Dtype  \n",
      "---  ------    --------------  -----  \n",
      " 0   age       1338 non-null   int64  \n",
      " 1   sex       1338 non-null   object \n",
      " 2   bmi       1338 non-null   float64\n",
      " 3   children  1338 non-null   int64  \n",
      " 4   smoker    1338 non-null   object \n",
      " 5   region    1338 non-null   object \n",
      " 6   charges   1338 non-null   float64\n",
      "dtypes: float64(2), int64(2), object(3)\n",
      "memory usage: 73.3+ KB\n"
     ]
    }
   ],
   "source": [
    "df.info()"
   ]
  },
  {
   "cell_type": "markdown",
   "id": "76652edb",
   "metadata": {},
   "source": [
    "# Train-test and split of model--"
   ]
  },
  {
   "cell_type": "code",
   "execution_count": 46,
   "id": "e2dc95db",
   "metadata": {},
   "outputs": [],
   "source": [
    "x_train,x_test,y_train,y_test=train_test_split(df.drop(columns=\"charges\"),df[\"charges\"],test_size=0.2,random_state=42)"
   ]
  },
  {
   "cell_type": "markdown",
   "id": "4bf2e007",
   "metadata": {},
   "source": [
    "# Here, I have used Transformer under which feature Engineering and  prediction executed.using pipelining"
   ]
  },
  {
   "cell_type": "code",
   "execution_count": 199,
   "id": "68bdc02d",
   "metadata": {},
   "outputs": [],
   "source": [
    "#one hot encoding----\n",
    "trf1=ColumnTransformer([(\"trf1\",OneHotEncoder(sparse=False,\n",
    "                        handle_unknown=\"ignore\",drop=\"first\"),[1,4,5])],remainder=\"passthrough\")"
   ]
  },
  {
   "cell_type": "code",
   "execution_count": 200,
   "id": "23d17ad3",
   "metadata": {},
   "outputs": [],
   "source": [
    "#scaling--\n",
    "trf2=ColumnTransformer([(\"trf2\",StandardScaler(),slice(0,7))])"
   ]
  },
  {
   "cell_type": "code",
   "execution_count": 201,
   "id": "4ee5c57f",
   "metadata": {},
   "outputs": [],
   "source": [
    "trf=ColumnTransformer([(\"trf\",PolynomialFeatures(degree=2,include_bias=True),slice(0,7))])"
   ]
  },
  {
   "cell_type": "code",
   "execution_count": 202,
   "id": "ad84367d",
   "metadata": {},
   "outputs": [],
   "source": [
    "#train model--\n",
    "trf3=Lasso(alpha=0.1)"
   ]
  },
  {
   "cell_type": "code",
   "execution_count": 203,
   "id": "342e8c4f",
   "metadata": {},
   "outputs": [],
   "source": [
    "from sklearn import set_config\n",
    "set_config(display=\"diagram\")"
   ]
  },
  {
   "cell_type": "code",
   "execution_count": 204,
   "id": "243e507e",
   "metadata": {},
   "outputs": [],
   "source": [
    "#pipelining--\n",
    "pipe=make_pipeline(trf1,trf2,trf,trf3)"
   ]
  },
  {
   "cell_type": "code",
   "execution_count": 205,
   "id": "a12abeb5",
   "metadata": {},
   "outputs": [
    {
     "data": {
      "text/html": [
       "<style>#sk-b68d6cc7-acbd-41cd-94ce-9c0f4a297214 {color: black;background-color: white;}#sk-b68d6cc7-acbd-41cd-94ce-9c0f4a297214 pre{padding: 0;}#sk-b68d6cc7-acbd-41cd-94ce-9c0f4a297214 div.sk-toggleable {background-color: white;}#sk-b68d6cc7-acbd-41cd-94ce-9c0f4a297214 label.sk-toggleable__label {cursor: pointer;display: block;width: 100%;margin-bottom: 0;padding: 0.3em;box-sizing: border-box;text-align: center;}#sk-b68d6cc7-acbd-41cd-94ce-9c0f4a297214 label.sk-toggleable__label-arrow:before {content: \"▸\";float: left;margin-right: 0.25em;color: #696969;}#sk-b68d6cc7-acbd-41cd-94ce-9c0f4a297214 label.sk-toggleable__label-arrow:hover:before {color: black;}#sk-b68d6cc7-acbd-41cd-94ce-9c0f4a297214 div.sk-estimator:hover label.sk-toggleable__label-arrow:before {color: black;}#sk-b68d6cc7-acbd-41cd-94ce-9c0f4a297214 div.sk-toggleable__content {max-height: 0;max-width: 0;overflow: hidden;text-align: left;background-color: #f0f8ff;}#sk-b68d6cc7-acbd-41cd-94ce-9c0f4a297214 div.sk-toggleable__content pre {margin: 0.2em;color: black;border-radius: 0.25em;background-color: #f0f8ff;}#sk-b68d6cc7-acbd-41cd-94ce-9c0f4a297214 input.sk-toggleable__control:checked~div.sk-toggleable__content {max-height: 200px;max-width: 100%;overflow: auto;}#sk-b68d6cc7-acbd-41cd-94ce-9c0f4a297214 input.sk-toggleable__control:checked~label.sk-toggleable__label-arrow:before {content: \"▾\";}#sk-b68d6cc7-acbd-41cd-94ce-9c0f4a297214 div.sk-estimator input.sk-toggleable__control:checked~label.sk-toggleable__label {background-color: #d4ebff;}#sk-b68d6cc7-acbd-41cd-94ce-9c0f4a297214 div.sk-label input.sk-toggleable__control:checked~label.sk-toggleable__label {background-color: #d4ebff;}#sk-b68d6cc7-acbd-41cd-94ce-9c0f4a297214 input.sk-hidden--visually {border: 0;clip: rect(1px 1px 1px 1px);clip: rect(1px, 1px, 1px, 1px);height: 1px;margin: -1px;overflow: hidden;padding: 0;position: absolute;width: 1px;}#sk-b68d6cc7-acbd-41cd-94ce-9c0f4a297214 div.sk-estimator {font-family: monospace;background-color: #f0f8ff;border: 1px dotted black;border-radius: 0.25em;box-sizing: border-box;margin-bottom: 0.5em;}#sk-b68d6cc7-acbd-41cd-94ce-9c0f4a297214 div.sk-estimator:hover {background-color: #d4ebff;}#sk-b68d6cc7-acbd-41cd-94ce-9c0f4a297214 div.sk-parallel-item::after {content: \"\";width: 100%;border-bottom: 1px solid gray;flex-grow: 1;}#sk-b68d6cc7-acbd-41cd-94ce-9c0f4a297214 div.sk-label:hover label.sk-toggleable__label {background-color: #d4ebff;}#sk-b68d6cc7-acbd-41cd-94ce-9c0f4a297214 div.sk-serial::before {content: \"\";position: absolute;border-left: 1px solid gray;box-sizing: border-box;top: 2em;bottom: 0;left: 50%;}#sk-b68d6cc7-acbd-41cd-94ce-9c0f4a297214 div.sk-serial {display: flex;flex-direction: column;align-items: center;background-color: white;padding-right: 0.2em;padding-left: 0.2em;}#sk-b68d6cc7-acbd-41cd-94ce-9c0f4a297214 div.sk-item {z-index: 1;}#sk-b68d6cc7-acbd-41cd-94ce-9c0f4a297214 div.sk-parallel {display: flex;align-items: stretch;justify-content: center;background-color: white;}#sk-b68d6cc7-acbd-41cd-94ce-9c0f4a297214 div.sk-parallel::before {content: \"\";position: absolute;border-left: 1px solid gray;box-sizing: border-box;top: 2em;bottom: 0;left: 50%;}#sk-b68d6cc7-acbd-41cd-94ce-9c0f4a297214 div.sk-parallel-item {display: flex;flex-direction: column;position: relative;background-color: white;}#sk-b68d6cc7-acbd-41cd-94ce-9c0f4a297214 div.sk-parallel-item:first-child::after {align-self: flex-end;width: 50%;}#sk-b68d6cc7-acbd-41cd-94ce-9c0f4a297214 div.sk-parallel-item:last-child::after {align-self: flex-start;width: 50%;}#sk-b68d6cc7-acbd-41cd-94ce-9c0f4a297214 div.sk-parallel-item:only-child::after {width: 0;}#sk-b68d6cc7-acbd-41cd-94ce-9c0f4a297214 div.sk-dashed-wrapped {border: 1px dashed gray;margin: 0 0.4em 0.5em 0.4em;box-sizing: border-box;padding-bottom: 0.4em;background-color: white;position: relative;}#sk-b68d6cc7-acbd-41cd-94ce-9c0f4a297214 div.sk-label label {font-family: monospace;font-weight: bold;background-color: white;display: inline-block;line-height: 1.2em;}#sk-b68d6cc7-acbd-41cd-94ce-9c0f4a297214 div.sk-label-container {position: relative;z-index: 2;text-align: center;}#sk-b68d6cc7-acbd-41cd-94ce-9c0f4a297214 div.sk-container {/* jupyter's `normalize.less` sets `[hidden] { display: none; }` but bootstrap.min.css set `[hidden] { display: none !important; }` so we also need the `!important` here to be able to override the default hidden behavior on the sphinx rendered scikit-learn.org. See: https://github.com/scikit-learn/scikit-learn/issues/21755 */display: inline-block !important;position: relative;}#sk-b68d6cc7-acbd-41cd-94ce-9c0f4a297214 div.sk-text-repr-fallback {display: none;}</style><div id=\"sk-b68d6cc7-acbd-41cd-94ce-9c0f4a297214\" class=\"sk-top-container\"><div class=\"sk-text-repr-fallback\"><pre>Pipeline(steps=[(&#x27;columntransformer-1&#x27;,\n",
       "                 ColumnTransformer(remainder=&#x27;passthrough&#x27;,\n",
       "                                   transformers=[(&#x27;trf1&#x27;,\n",
       "                                                  OneHotEncoder(drop=&#x27;first&#x27;,\n",
       "                                                                handle_unknown=&#x27;ignore&#x27;,\n",
       "                                                                sparse=False),\n",
       "                                                  [1, 4, 5])])),\n",
       "                (&#x27;columntransformer-2&#x27;,\n",
       "                 ColumnTransformer(transformers=[(&#x27;trf2&#x27;, StandardScaler(),\n",
       "                                                  slice(0, 7, None))])),\n",
       "                (&#x27;columntransformer-3&#x27;,\n",
       "                 ColumnTransformer(transformers=[(&#x27;trf&#x27;, PolynomialFeatures(),\n",
       "                                                  slice(0, 7, None))])),\n",
       "                (&#x27;lasso&#x27;, Lasso(alpha=0.1))])</pre><b>Please rerun this cell to show the HTML repr or trust the notebook.</b></div><div class=\"sk-container\" hidden><div class=\"sk-item sk-dashed-wrapped\"><div class=\"sk-label-container\"><div class=\"sk-label sk-toggleable\"><input class=\"sk-toggleable__control sk-hidden--visually\" id=\"6e35b408-31f7-4652-8947-e14752c109f0\" type=\"checkbox\" ><label for=\"6e35b408-31f7-4652-8947-e14752c109f0\" class=\"sk-toggleable__label sk-toggleable__label-arrow\">Pipeline</label><div class=\"sk-toggleable__content\"><pre>Pipeline(steps=[(&#x27;columntransformer-1&#x27;,\n",
       "                 ColumnTransformer(remainder=&#x27;passthrough&#x27;,\n",
       "                                   transformers=[(&#x27;trf1&#x27;,\n",
       "                                                  OneHotEncoder(drop=&#x27;first&#x27;,\n",
       "                                                                handle_unknown=&#x27;ignore&#x27;,\n",
       "                                                                sparse=False),\n",
       "                                                  [1, 4, 5])])),\n",
       "                (&#x27;columntransformer-2&#x27;,\n",
       "                 ColumnTransformer(transformers=[(&#x27;trf2&#x27;, StandardScaler(),\n",
       "                                                  slice(0, 7, None))])),\n",
       "                (&#x27;columntransformer-3&#x27;,\n",
       "                 ColumnTransformer(transformers=[(&#x27;trf&#x27;, PolynomialFeatures(),\n",
       "                                                  slice(0, 7, None))])),\n",
       "                (&#x27;lasso&#x27;, Lasso(alpha=0.1))])</pre></div></div></div><div class=\"sk-serial\"><div class=\"sk-item sk-dashed-wrapped\"><div class=\"sk-label-container\"><div class=\"sk-label sk-toggleable\"><input class=\"sk-toggleable__control sk-hidden--visually\" id=\"fd096d88-6355-4c96-be6d-d80fb4e27c1b\" type=\"checkbox\" ><label for=\"fd096d88-6355-4c96-be6d-d80fb4e27c1b\" class=\"sk-toggleable__label sk-toggleable__label-arrow\">columntransformer-1: ColumnTransformer</label><div class=\"sk-toggleable__content\"><pre>ColumnTransformer(remainder=&#x27;passthrough&#x27;,\n",
       "                  transformers=[(&#x27;trf1&#x27;,\n",
       "                                 OneHotEncoder(drop=&#x27;first&#x27;,\n",
       "                                               handle_unknown=&#x27;ignore&#x27;,\n",
       "                                               sparse=False),\n",
       "                                 [1, 4, 5])])</pre></div></div></div><div class=\"sk-parallel\"><div class=\"sk-parallel-item\"><div class=\"sk-item\"><div class=\"sk-label-container\"><div class=\"sk-label sk-toggleable\"><input class=\"sk-toggleable__control sk-hidden--visually\" id=\"25ab63dd-0dbb-4d5c-9381-f9a37ad3755b\" type=\"checkbox\" ><label for=\"25ab63dd-0dbb-4d5c-9381-f9a37ad3755b\" class=\"sk-toggleable__label sk-toggleable__label-arrow\">trf1</label><div class=\"sk-toggleable__content\"><pre>[1, 4, 5]</pre></div></div></div><div class=\"sk-serial\"><div class=\"sk-item\"><div class=\"sk-estimator sk-toggleable\"><input class=\"sk-toggleable__control sk-hidden--visually\" id=\"cc7f777e-a32b-4042-b105-0ceb5105f036\" type=\"checkbox\" ><label for=\"cc7f777e-a32b-4042-b105-0ceb5105f036\" class=\"sk-toggleable__label sk-toggleable__label-arrow\">OneHotEncoder</label><div class=\"sk-toggleable__content\"><pre>OneHotEncoder(drop=&#x27;first&#x27;, handle_unknown=&#x27;ignore&#x27;, sparse=False)</pre></div></div></div></div></div></div><div class=\"sk-parallel-item\"><div class=\"sk-item\"><div class=\"sk-label-container\"><div class=\"sk-label sk-toggleable\"><input class=\"sk-toggleable__control sk-hidden--visually\" id=\"b89736a1-c3df-4cfd-8c08-82d6e246e8cd\" type=\"checkbox\" ><label for=\"b89736a1-c3df-4cfd-8c08-82d6e246e8cd\" class=\"sk-toggleable__label sk-toggleable__label-arrow\">remainder</label><div class=\"sk-toggleable__content\"><pre>[&#x27;age&#x27;, &#x27;bmi&#x27;, &#x27;children&#x27;]</pre></div></div></div><div class=\"sk-serial\"><div class=\"sk-item\"><div class=\"sk-estimator sk-toggleable\"><input class=\"sk-toggleable__control sk-hidden--visually\" id=\"70831d03-7428-455b-b9d5-5626503ccfb3\" type=\"checkbox\" ><label for=\"70831d03-7428-455b-b9d5-5626503ccfb3\" class=\"sk-toggleable__label sk-toggleable__label-arrow\">passthrough</label><div class=\"sk-toggleable__content\"><pre>passthrough</pre></div></div></div></div></div></div></div></div><div class=\"sk-item sk-dashed-wrapped\"><div class=\"sk-label-container\"><div class=\"sk-label sk-toggleable\"><input class=\"sk-toggleable__control sk-hidden--visually\" id=\"79cd79e2-590a-45c3-8963-c19009dfc8c4\" type=\"checkbox\" ><label for=\"79cd79e2-590a-45c3-8963-c19009dfc8c4\" class=\"sk-toggleable__label sk-toggleable__label-arrow\">columntransformer-2: ColumnTransformer</label><div class=\"sk-toggleable__content\"><pre>ColumnTransformer(transformers=[(&#x27;trf2&#x27;, StandardScaler(), slice(0, 7, None))])</pre></div></div></div><div class=\"sk-parallel\"><div class=\"sk-parallel-item\"><div class=\"sk-item\"><div class=\"sk-label-container\"><div class=\"sk-label sk-toggleable\"><input class=\"sk-toggleable__control sk-hidden--visually\" id=\"a7eddd1b-523f-400f-88e3-3c1e3d06aaa6\" type=\"checkbox\" ><label for=\"a7eddd1b-523f-400f-88e3-3c1e3d06aaa6\" class=\"sk-toggleable__label sk-toggleable__label-arrow\">trf2</label><div class=\"sk-toggleable__content\"><pre>slice(0, 7, None)</pre></div></div></div><div class=\"sk-serial\"><div class=\"sk-item\"><div class=\"sk-estimator sk-toggleable\"><input class=\"sk-toggleable__control sk-hidden--visually\" id=\"02fddd77-2977-43da-97a4-0dd7cf80d85b\" type=\"checkbox\" ><label for=\"02fddd77-2977-43da-97a4-0dd7cf80d85b\" class=\"sk-toggleable__label sk-toggleable__label-arrow\">StandardScaler</label><div class=\"sk-toggleable__content\"><pre>StandardScaler()</pre></div></div></div></div></div></div></div></div><div class=\"sk-item sk-dashed-wrapped\"><div class=\"sk-label-container\"><div class=\"sk-label sk-toggleable\"><input class=\"sk-toggleable__control sk-hidden--visually\" id=\"feb22992-f93c-4537-8e29-24bbeb8204cc\" type=\"checkbox\" ><label for=\"feb22992-f93c-4537-8e29-24bbeb8204cc\" class=\"sk-toggleable__label sk-toggleable__label-arrow\">columntransformer-3: ColumnTransformer</label><div class=\"sk-toggleable__content\"><pre>ColumnTransformer(transformers=[(&#x27;trf&#x27;, PolynomialFeatures(),\n",
       "                                 slice(0, 7, None))])</pre></div></div></div><div class=\"sk-parallel\"><div class=\"sk-parallel-item\"><div class=\"sk-item\"><div class=\"sk-label-container\"><div class=\"sk-label sk-toggleable\"><input class=\"sk-toggleable__control sk-hidden--visually\" id=\"572c7790-2e41-4b1d-90f2-ff0b3d242504\" type=\"checkbox\" ><label for=\"572c7790-2e41-4b1d-90f2-ff0b3d242504\" class=\"sk-toggleable__label sk-toggleable__label-arrow\">trf</label><div class=\"sk-toggleable__content\"><pre>slice(0, 7, None)</pre></div></div></div><div class=\"sk-serial\"><div class=\"sk-item\"><div class=\"sk-estimator sk-toggleable\"><input class=\"sk-toggleable__control sk-hidden--visually\" id=\"f62a23eb-6308-4dbc-a7c7-9606cb08d0a5\" type=\"checkbox\" ><label for=\"f62a23eb-6308-4dbc-a7c7-9606cb08d0a5\" class=\"sk-toggleable__label sk-toggleable__label-arrow\">PolynomialFeatures</label><div class=\"sk-toggleable__content\"><pre>PolynomialFeatures()</pre></div></div></div></div></div></div></div></div><div class=\"sk-item\"><div class=\"sk-estimator sk-toggleable\"><input class=\"sk-toggleable__control sk-hidden--visually\" id=\"8a3c8983-1216-44d4-9fe8-594712a97ef0\" type=\"checkbox\" ><label for=\"8a3c8983-1216-44d4-9fe8-594712a97ef0\" class=\"sk-toggleable__label sk-toggleable__label-arrow\">Lasso</label><div class=\"sk-toggleable__content\"><pre>Lasso(alpha=0.1)</pre></div></div></div></div></div></div></div>"
      ],
      "text/plain": [
       "Pipeline(steps=[('columntransformer-1',\n",
       "                 ColumnTransformer(remainder='passthrough',\n",
       "                                   transformers=[('trf1',\n",
       "                                                  OneHotEncoder(drop='first',\n",
       "                                                                handle_unknown='ignore',\n",
       "                                                                sparse=False),\n",
       "                                                  [1, 4, 5])])),\n",
       "                ('columntransformer-2',\n",
       "                 ColumnTransformer(transformers=[('trf2', StandardScaler(),\n",
       "                                                  slice(0, 7, None))])),\n",
       "                ('columntransformer-3',\n",
       "                 ColumnTransformer(transformers=[('trf', PolynomialFeatures(),\n",
       "                                                  slice(0, 7, None))])),\n",
       "                ('lasso', Lasso(alpha=0.1))])"
      ]
     },
     "execution_count": 205,
     "metadata": {},
     "output_type": "execute_result"
    }
   ],
   "source": [
    "pipe.fit(x_train,y_train)"
   ]
  },
  {
   "cell_type": "code",
   "execution_count": 206,
   "id": "0ae1424d",
   "metadata": {},
   "outputs": [
    {
     "data": {
      "text/plain": [
       "{'columntransformer-1': ColumnTransformer(remainder='passthrough',\n",
       "                   transformers=[('trf1',\n",
       "                                  OneHotEncoder(drop='first',\n",
       "                                                handle_unknown='ignore',\n",
       "                                                sparse=False),\n",
       "                                  [1, 4, 5])]),\n",
       " 'columntransformer-2': ColumnTransformer(transformers=[('trf2', StandardScaler(), slice(0, 7, None))]),\n",
       " 'columntransformer-3': ColumnTransformer(transformers=[('trf', PolynomialFeatures(),\n",
       "                                  slice(0, 7, None))]),\n",
       " 'lasso': Lasso(alpha=0.1)}"
      ]
     },
     "execution_count": 206,
     "metadata": {},
     "output_type": "execute_result"
    }
   ],
   "source": [
    "pipe.named_steps"
   ]
  },
  {
   "cell_type": "code",
   "execution_count": 207,
   "id": "168ce777",
   "metadata": {},
   "outputs": [
    {
     "data": {
      "text/html": [
       "<style>#sk-1083fd46-9c9d-488c-8c45-380dff26d8d2 {color: black;background-color: white;}#sk-1083fd46-9c9d-488c-8c45-380dff26d8d2 pre{padding: 0;}#sk-1083fd46-9c9d-488c-8c45-380dff26d8d2 div.sk-toggleable {background-color: white;}#sk-1083fd46-9c9d-488c-8c45-380dff26d8d2 label.sk-toggleable__label {cursor: pointer;display: block;width: 100%;margin-bottom: 0;padding: 0.3em;box-sizing: border-box;text-align: center;}#sk-1083fd46-9c9d-488c-8c45-380dff26d8d2 label.sk-toggleable__label-arrow:before {content: \"▸\";float: left;margin-right: 0.25em;color: #696969;}#sk-1083fd46-9c9d-488c-8c45-380dff26d8d2 label.sk-toggleable__label-arrow:hover:before {color: black;}#sk-1083fd46-9c9d-488c-8c45-380dff26d8d2 div.sk-estimator:hover label.sk-toggleable__label-arrow:before {color: black;}#sk-1083fd46-9c9d-488c-8c45-380dff26d8d2 div.sk-toggleable__content {max-height: 0;max-width: 0;overflow: hidden;text-align: left;background-color: #f0f8ff;}#sk-1083fd46-9c9d-488c-8c45-380dff26d8d2 div.sk-toggleable__content pre {margin: 0.2em;color: black;border-radius: 0.25em;background-color: #f0f8ff;}#sk-1083fd46-9c9d-488c-8c45-380dff26d8d2 input.sk-toggleable__control:checked~div.sk-toggleable__content {max-height: 200px;max-width: 100%;overflow: auto;}#sk-1083fd46-9c9d-488c-8c45-380dff26d8d2 input.sk-toggleable__control:checked~label.sk-toggleable__label-arrow:before {content: \"▾\";}#sk-1083fd46-9c9d-488c-8c45-380dff26d8d2 div.sk-estimator input.sk-toggleable__control:checked~label.sk-toggleable__label {background-color: #d4ebff;}#sk-1083fd46-9c9d-488c-8c45-380dff26d8d2 div.sk-label input.sk-toggleable__control:checked~label.sk-toggleable__label {background-color: #d4ebff;}#sk-1083fd46-9c9d-488c-8c45-380dff26d8d2 input.sk-hidden--visually {border: 0;clip: rect(1px 1px 1px 1px);clip: rect(1px, 1px, 1px, 1px);height: 1px;margin: -1px;overflow: hidden;padding: 0;position: absolute;width: 1px;}#sk-1083fd46-9c9d-488c-8c45-380dff26d8d2 div.sk-estimator {font-family: monospace;background-color: #f0f8ff;border: 1px dotted black;border-radius: 0.25em;box-sizing: border-box;margin-bottom: 0.5em;}#sk-1083fd46-9c9d-488c-8c45-380dff26d8d2 div.sk-estimator:hover {background-color: #d4ebff;}#sk-1083fd46-9c9d-488c-8c45-380dff26d8d2 div.sk-parallel-item::after {content: \"\";width: 100%;border-bottom: 1px solid gray;flex-grow: 1;}#sk-1083fd46-9c9d-488c-8c45-380dff26d8d2 div.sk-label:hover label.sk-toggleable__label {background-color: #d4ebff;}#sk-1083fd46-9c9d-488c-8c45-380dff26d8d2 div.sk-serial::before {content: \"\";position: absolute;border-left: 1px solid gray;box-sizing: border-box;top: 2em;bottom: 0;left: 50%;}#sk-1083fd46-9c9d-488c-8c45-380dff26d8d2 div.sk-serial {display: flex;flex-direction: column;align-items: center;background-color: white;padding-right: 0.2em;padding-left: 0.2em;}#sk-1083fd46-9c9d-488c-8c45-380dff26d8d2 div.sk-item {z-index: 1;}#sk-1083fd46-9c9d-488c-8c45-380dff26d8d2 div.sk-parallel {display: flex;align-items: stretch;justify-content: center;background-color: white;}#sk-1083fd46-9c9d-488c-8c45-380dff26d8d2 div.sk-parallel::before {content: \"\";position: absolute;border-left: 1px solid gray;box-sizing: border-box;top: 2em;bottom: 0;left: 50%;}#sk-1083fd46-9c9d-488c-8c45-380dff26d8d2 div.sk-parallel-item {display: flex;flex-direction: column;position: relative;background-color: white;}#sk-1083fd46-9c9d-488c-8c45-380dff26d8d2 div.sk-parallel-item:first-child::after {align-self: flex-end;width: 50%;}#sk-1083fd46-9c9d-488c-8c45-380dff26d8d2 div.sk-parallel-item:last-child::after {align-self: flex-start;width: 50%;}#sk-1083fd46-9c9d-488c-8c45-380dff26d8d2 div.sk-parallel-item:only-child::after {width: 0;}#sk-1083fd46-9c9d-488c-8c45-380dff26d8d2 div.sk-dashed-wrapped {border: 1px dashed gray;margin: 0 0.4em 0.5em 0.4em;box-sizing: border-box;padding-bottom: 0.4em;background-color: white;position: relative;}#sk-1083fd46-9c9d-488c-8c45-380dff26d8d2 div.sk-label label {font-family: monospace;font-weight: bold;background-color: white;display: inline-block;line-height: 1.2em;}#sk-1083fd46-9c9d-488c-8c45-380dff26d8d2 div.sk-label-container {position: relative;z-index: 2;text-align: center;}#sk-1083fd46-9c9d-488c-8c45-380dff26d8d2 div.sk-container {/* jupyter's `normalize.less` sets `[hidden] { display: none; }` but bootstrap.min.css set `[hidden] { display: none !important; }` so we also need the `!important` here to be able to override the default hidden behavior on the sphinx rendered scikit-learn.org. See: https://github.com/scikit-learn/scikit-learn/issues/21755 */display: inline-block !important;position: relative;}#sk-1083fd46-9c9d-488c-8c45-380dff26d8d2 div.sk-text-repr-fallback {display: none;}</style><div id=\"sk-1083fd46-9c9d-488c-8c45-380dff26d8d2\" class=\"sk-top-container\"><div class=\"sk-text-repr-fallback\"><pre>OneHotEncoder(drop=&#x27;first&#x27;, handle_unknown=&#x27;ignore&#x27;, sparse=False)</pre><b>Please rerun this cell to show the HTML repr or trust the notebook.</b></div><div class=\"sk-container\" hidden><div class=\"sk-item\"><div class=\"sk-estimator sk-toggleable\"><input class=\"sk-toggleable__control sk-hidden--visually\" id=\"eaa821e6-6536-42fa-bdc1-7b42d96aa81e\" type=\"checkbox\" checked><label for=\"eaa821e6-6536-42fa-bdc1-7b42d96aa81e\" class=\"sk-toggleable__label sk-toggleable__label-arrow\">OneHotEncoder</label><div class=\"sk-toggleable__content\"><pre>OneHotEncoder(drop=&#x27;first&#x27;, handle_unknown=&#x27;ignore&#x27;, sparse=False)</pre></div></div></div></div></div>"
      ],
      "text/plain": [
       "OneHotEncoder(drop='first', handle_unknown='ignore', sparse=False)"
      ]
     },
     "execution_count": 207,
     "metadata": {},
     "output_type": "execute_result"
    }
   ],
   "source": [
    "pipe.named_steps['columntransformer-1'].transformers_[0][1]"
   ]
  },
  {
   "cell_type": "code",
   "execution_count": 208,
   "id": "19d88d10",
   "metadata": {},
   "outputs": [],
   "source": [
    "y_pred=pipe.predict(x_test)"
   ]
  },
  {
   "cell_type": "code",
   "execution_count": 209,
   "id": "1c7590e9",
   "metadata": {},
   "outputs": [
    {
     "data": {
      "text/plain": [
       "0.861060266938059"
      ]
     },
     "execution_count": 209,
     "metadata": {},
     "output_type": "execute_result"
    }
   ],
   "source": [
    "r2_score(y_test,y_pred)"
   ]
  },
  {
   "cell_type": "code",
   "execution_count": 219,
   "id": "3e9714d4",
   "metadata": {},
   "outputs": [
    {
     "data": {
      "text/plain": [
       "0.82242191772532"
      ]
     },
     "execution_count": 219,
     "metadata": {},
     "output_type": "execute_result"
    }
   ],
   "source": [
    "#cross validation score\n",
    "from sklearn.model_selection import cross_val_score\n",
    "cross_val_score(pipe,x_train,y_train,cv=10,scoring=\"r2\").mean()"
   ]
  },
  {
   "cell_type": "code",
   "execution_count": 220,
   "id": "243b8ac6",
   "metadata": {},
   "outputs": [
    {
     "data": {
      "text/plain": [
       "Text(0, 0.5, 'test predicted data')"
      ]
     },
     "execution_count": 220,
     "metadata": {},
     "output_type": "execute_result"
    },
    {
     "data": {
      "image/png": "[encoded data removed]",
      "text/plain": [
       "<Figure size 432x288 with 1 Axes>"
      ]
     },
     "metadata": {
      "needs_background": "light"
     },
     "output_type": "display_data"
    }
   ],
   "source": [
    "plt.scatter(y_test,y_pred) #if this graph will show linear relation then it is good prediction\n",
    "plt.xlabel(\"Test truth data\")\n",
    "plt.ylabel(\"test predicted data\")"
   ]
  },
  {
   "cell_type": "code",
   "execution_count": 221,
   "id": "aa966e17",
   "metadata": {},
   "outputs": [
    {
     "data": {
      "text/plain": [
       "<AxesSubplot: xlabel='charges', ylabel='Density'>"
      ]
     },
     "execution_count": 221,
     "metadata": {},
     "output_type": "execute_result"
    },
    {
     "data": {
      "image/png": "[encoded data removed]",
      "text/plain": [
       "<Figure size 432x288 with 1 Axes>"
      ]
     },
     "metadata": {
      "needs_background": "light"
     },
     "output_type": "display_data"
    }
   ],
   "source": [
    "residuals=y_test-y_pred #if this will show normal distribution then it is fit\n",
    "sns.distplot(residuals,kde=True)"
   ]
  },
  {
   "cell_type": "code",
   "execution_count": 222,
   "id": "cc630c88",
   "metadata": {},
   "outputs": [
    {
     "data": {
      "text/plain": [
       "<matplotlib.collections.PathCollection at 0x1b7fafeffa0>"
      ]
     },
     "execution_count": 222,
     "metadata": {},
     "output_type": "execute_result"
    },
    {
     "data": {
      "image/png": "[encoded data removed]",
      "text/plain": [
       "<Figure size 432x288 with 1 Axes>"
      ]
     },
     "metadata": {
      "needs_background": "light"
     },
     "output_type": "display_data"
    }
   ],
   "source": [
    "plt.scatter(y_pred,residuals) # it is used to measure the accuraxy of model\n",
    "                              #it is randomly or uniformly distributed "
   ]
  },
  {
   "cell_type": "raw",
   "id": "b0d887fb",
   "metadata": {},
   "source": [
    "After performing LinearRegression,Lasso,Ridge.We find that \n",
    "Lasso perform better but on the polynomial feature.so I have used polynomial \n",
    "feature scaling ."
   ]
  },
  {
   "cell_type": "code",
   "execution_count": null,
   "id": "dab77f6a",
   "metadata": {},
   "outputs": [],
   "source": []
  }
 ],
 "metadata": {
  "kernelspec": {
   "display_name": "Python 3 (ipykernel)",
   "language": "python",
   "name": "python3"
  },
  "language_info": {
   "codemirror_mode": {
    "name": "ipython",
    "version": 3
   },
   "file_extension": ".py",
   "mimetype": "text/x-python",
   "name": "python",
   "nbconvert_exporter": "python",
   "pygments_lexer": "ipython3",
   "version": "3.9.12"
  }
 },
 "nbformat": 4,
 "nbformat_minor": 5
}
